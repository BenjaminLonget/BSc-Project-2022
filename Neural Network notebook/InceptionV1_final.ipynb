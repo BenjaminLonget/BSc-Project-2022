{
 "cells": [
  {
   "cell_type": "code",
   "execution_count": null,
   "id": "12f888fa",
   "metadata": {},
   "outputs": [],
   "source": [
    "from pynq_dpu import DpuOverlay\n",
    "from pynq import Overlay\n",
    "overlay = DpuOverlay(\"dpu.bit\")\n",
    "import os\n",
    "import time\n",
    "import numpy as np\n",
    "import cv2\n",
    "import matplotlib.pyplot as plt\n",
    "from PIL import Image as PIL_Image\n",
    "from IPython.display import clear_output\n",
    "\n",
    "overlay.load_model(\"dpu_tf_inceptionv1.xmodel\")\n",
    "\n",
    "\n",
    "def normalize(image):\n",
    "    image=image/256.0\n",
    "    image=image-0.5\n",
    "    image=image*2\n",
    "    return image\n",
    "\n",
    "def preprocess_fn(image):\n",
    "    image = cv2.resize(image, (224, 224))\n",
    "    image = cv2.cvtColor(image, cv2.COLOR_BGR2RGB)\n",
    "    image = normalize(image)\n",
    "    return image\n",
    "\n",
    "def calculate_softmax(data):\n",
    "    result = np.exp(data)\n",
    "    return result\n",
    "\n",
    "def predict_label(softmax):\n",
    "    with open(\"img/words.txt\", \"r\") as f:\n",
    "        lines = f.readlines()\n",
    "    return lines[np.argmax(softmax)-1]\n",
    "\n",
    "\n",
    "dpu = overlay.runner\n",
    "inputTensors = dpu.get_input_tensors()\n",
    "outputTensors = dpu.get_output_tensors()\n",
    "shapeIn = tuple(inputTensors[0].dims)\n",
    "shapeOut = tuple(outputTensors[0].dims)\n",
    "outputSize = int(outputTensors[0].get_data_size() / shapeIn[0])\n",
    "softmax = np.empty(outputSize) \n",
    "output_data = [np.empty(shapeOut, dtype=np.float32, order=\"C\")]\n",
    "input_data = [np.empty(shapeIn, dtype=np.float32, order=\"C\")]\n",
    "image = input_data[0]\n",
    "\n",
    "video = cv2.VideoCapture(0)\n"
   ]
  },
  {
   "cell_type": "code",
   "execution_count": null,
   "id": "54c65db6",
   "metadata": {},
   "outputs": [],
   "source": [
    "def single_im():\n",
    "    _, frame = video.read()\n",
    "    preprocessed = preprocess_fn(frame)\n",
    "    image[0,...] = preprocessed.reshape(shapeIn[1:])\n",
    "    job_id = dpu.execute_async(input_data, output_data)\n",
    "    dpu.wait(job_id)\n",
    "    temp = [j.reshape(1, outputSize) for j in output_data]\n",
    "    softmax = calculate_softmax(temp[0][0])\n",
    "    confidence = np.amax(softmax)/softmax.sum()\n",
    "    _, ax = plt.subplots(1)\n",
    "    _ = ax.imshow(cv2.cvtColor(frame, cv2.COLOR_BGR2RGB))\n",
    "    print(\"Classification: {}\".format(predict_label(softmax)))\n",
    "    print(\"Confidence: {}\".format(confidence))"
   ]
  },
  {
   "cell_type": "code",
   "execution_count": null,
   "id": "63ef79d3",
   "metadata": {
    "scrolled": true
   },
   "outputs": [],
   "source": [
    "single_im()"
   ]
  },
  {
   "cell_type": "code",
   "execution_count": null,
   "id": "c84bb189",
   "metadata": {},
   "outputs": [],
   "source": [
    "def calculate_fps():\n",
    "    i = 0\n",
    "    total = 0\n",
    "    while True:\n",
    "        start=time.time()\n",
    "        \n",
    "        _, frame = video.read()\n",
    "        preprocessed = preprocess_fn(frame)\n",
    "        #end=time.time()\n",
    "        #start=time.time()\n",
    "        image[0,...] = preprocessed.reshape(shapeIn[1:])\n",
    "        job_id = dpu.execute_async(input_data, output_data)\n",
    "        dpu.wait(job_id)\n",
    "        temp = [j.reshape(1, outputSize) for j in output_data]\n",
    "        softmax = calculate_softmax(temp[0][0])\n",
    "        \n",
    "        end=time.time()\n",
    "        total += end-start\n",
    "        print(i/total)\n",
    "        i += 1"
   ]
  },
  {
   "cell_type": "code",
   "execution_count": null,
   "id": "30b89c51",
   "metadata": {
    "scrolled": false
   },
   "outputs": [],
   "source": [
    "calculate_fps()"
   ]
  },
  {
   "cell_type": "code",
   "execution_count": null,
   "id": "a34ab967",
   "metadata": {},
   "outputs": [],
   "source": [
    "def single_im():\n",
    "    _, frame = video.read()\n",
    "    preprocessed = preprocess_fn(frame)\n",
    "    image[0,...] = preprocessed.reshape(shapeIn[1:])\n",
    "    job_id = dpu.execute_async(input_data, output_data)\n",
    "    dpu.wait(job_id)\n",
    "    temp = [j.reshape(1, outputSize) for j in output_data]\n",
    "    softmax = calculate_softmax(temp[0][0])\n",
    "    confidence = np.amax(softmax)/softmax.sum()\n",
    "    _, ax = plt.subplots(1)\n",
    "    _ = ax.imshow(cv2.cvtColor(frame, cv2.COLOR_BGR2RGB))\n",
    "    print(\"Classification: {}\".format(predict_label(softmax)))\n",
    "    print(\"Confidence: {}\".format(confidence))"
   ]
  },
  {
   "cell_type": "code",
   "execution_count": null,
   "id": "dad6a011",
   "metadata": {},
   "outputs": [],
   "source": [
    "single_im()"
   ]
  },
  {
   "cell_type": "code",
   "execution_count": null,
   "id": "eba049a5",
   "metadata": {},
   "outputs": [],
   "source": [
    "video.release()\n",
    "del overlay\n",
    "del dpu"
   ]
  }
 ],
 "metadata": {
  "kernelspec": {
   "display_name": "Python 3",
   "language": "python",
   "name": "python3"
  },
  "language_info": {
   "codemirror_mode": {
    "name": "ipython",
    "version": 3
   },
   "file_extension": ".py",
   "mimetype": "text/x-python",
   "name": "python",
   "nbconvert_exporter": "python",
   "pygments_lexer": "ipython3",
   "version": "3.8.2"
  }
 },
 "nbformat": 4,
 "nbformat_minor": 5
}
