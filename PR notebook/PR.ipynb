{
 "cells": [
  {
   "cell_type": "code",
   "execution_count": 1,
   "id": "90888c3b",
   "metadata": {},
   "outputs": [
    {
     "data": {
      "application/javascript": [
       "\n",
       "try {\n",
       "require(['notebook/js/codecell'], function(codecell) {\n",
       "  codecell.CodeCell.options_default.highlight_modes[\n",
       "      'magic_text/x-csrc'] = {'reg':[/^%%microblaze/]};\n",
       "  Jupyter.notebook.events.one('kernel_ready.Kernel', function(){\n",
       "      Jupyter.notebook.get_cells().map(function(cell){\n",
       "          if (cell.cell_type == 'code'){ cell.auto_highlight(); } }) ;\n",
       "  });\n",
       "});\n",
       "} catch (e) {};\n"
      ]
     },
     "metadata": {},
     "output_type": "display_data"
    },
    {
     "data": {
      "application/javascript": [
       "\n",
       "try {\n",
       "require(['notebook/js/codecell'], function(codecell) {\n",
       "  codecell.CodeCell.options_default.highlight_modes[\n",
       "      'magic_text/x-csrc'] = {'reg':[/^%%pybind11/]};\n",
       "  Jupyter.notebook.events.one('kernel_ready.Kernel', function(){\n",
       "      Jupyter.notebook.get_cells().map(function(cell){\n",
       "          if (cell.cell_type == 'code'){ cell.auto_highlight(); } }) ;\n",
       "  });\n",
       "});\n",
       "} catch (e) {};\n"
      ]
     },
     "metadata": {},
     "output_type": "display_data"
    }
   ],
   "source": [
    "from pynq import PL\n",
    "from pynq import Overlay\n",
    "from pynq import GPIO\n",
    "import time\n",
    "import matplotlib.pyplot as plt\n",
    "\n"
   ]
  },
  {
   "cell_type": "code",
   "execution_count": 3,
   "id": "0ab59dee",
   "metadata": {
    "scrolled": true
   },
   "outputs": [],
   "source": [
    "overlay=Overlay('/home/xilinx/pynq/overlays/Pblock_test/Zynq.bit')"
   ]
  },
  {
   "cell_type": "code",
   "execution_count": 5,
   "id": "6c959ff0",
   "metadata": {
    "scrolled": true
   },
   "outputs": [],
   "source": [
    "overlay.pr_download('pr_hier', '/home/xilinx/pynq/overlays/Pblock_test/pr_1.bit')"
   ]
  },
  {
   "cell_type": "code",
   "execution_count": 6,
   "id": "b2ea8200",
   "metadata": {},
   "outputs": [],
   "source": [
    "overlay.pr_download('pr_hier', '/home/xilinx/pynq/overlays/Pblock_test/pr_0.bit')"
   ]
  },
  {
   "cell_type": "code",
   "execution_count": 15,
   "id": "cd35c6e1",
   "metadata": {
    "scrolled": false
   },
   "outputs": [],
   "source": [
    "overlay=Overlay('/home/xilinx/pynq/overlays/AXI_GPIO/Zynq_wrapper.bit')"
   ]
  },
  {
   "cell_type": "code",
   "execution_count": 12,
   "id": "50725237",
   "metadata": {},
   "outputs": [
    {
     "name": "stdout",
     "output_type": "stream",
     "text": [
      "0.20585322380065918\n"
     ]
    }
   ],
   "source": [
    "time1 = time.time()\n",
    "overlay.pr_download('pr_hier', '/home/xilinx/pynq/overlays/Pblock_test/pr_0.bit')\n",
    "time2 = time.time()\n",
    "print((time2-time1))"
   ]
  },
  {
   "cell_type": "code",
   "execution_count": 19,
   "id": "3bd76e44",
   "metadata": {},
   "outputs": [],
   "source": [
    "overlay.pr_download('pr_hier', '/home/xilinx/pynq/overlays/AXI_GPIO/pr_1.bit')"
   ]
  },
  {
   "cell_type": "code",
   "execution_count": 24,
   "id": "69fa3395",
   "metadata": {},
   "outputs": [
    {
     "ename": "AttributeError",
     "evalue": "'DefaultIP' object has no attribute 'download'",
     "output_type": "error",
     "traceback": [
      "\u001b[0;31m---------------------------------------------------------------------------\u001b[0m",
      "\u001b[0;31mAttributeError\u001b[0m                            Traceback (most recent call last)",
      "\u001b[0;32m<ipython-input-24-381506c6193f>\u001b[0m in \u001b[0;36m<module>\u001b[0;34m\u001b[0m\n\u001b[0;32m----> 1\u001b[0;31m \u001b[0moverlay\u001b[0m\u001b[0;34m.\u001b[0m\u001b[0mpr_download\u001b[0m\u001b[0;34m(\u001b[0m\u001b[0;34m'pr_hier'\u001b[0m\u001b[0;34m,\u001b[0m \u001b[0;34m'/home/xilinx/pynq/overlays/AXI_GPIO/pr_2.bit'\u001b[0m\u001b[0;34m)\u001b[0m\u001b[0;34m\u001b[0m\u001b[0;34m\u001b[0m\u001b[0m\n\u001b[0m",
      "\u001b[0;32m/usr/local/share/pynq-venv/lib/python3.8/site-packages/pynq/overlay.py\u001b[0m in \u001b[0;36mpr_download\u001b[0;34m(self, partial_region, partial_bit, dtbo)\u001b[0m\n\u001b[1;32m    450\u001b[0m         \"\"\"\n\u001b[1;32m    451\u001b[0m         \u001b[0mpr_block\u001b[0m \u001b[0;34m=\u001b[0m \u001b[0mself\u001b[0m\u001b[0;34m.\u001b[0m\u001b[0m__getattr__\u001b[0m\u001b[0;34m(\u001b[0m\u001b[0mpartial_region\u001b[0m\u001b[0;34m)\u001b[0m\u001b[0;34m\u001b[0m\u001b[0;34m\u001b[0m\u001b[0m\n\u001b[0;32m--> 452\u001b[0;31m         \u001b[0mpr_block\u001b[0m\u001b[0;34m.\u001b[0m\u001b[0mdownload\u001b[0m\u001b[0;34m(\u001b[0m\u001b[0mbitfile_name\u001b[0m\u001b[0;34m=\u001b[0m\u001b[0mpartial_bit\u001b[0m\u001b[0;34m,\u001b[0m \u001b[0mdtbo\u001b[0m\u001b[0;34m=\u001b[0m\u001b[0mdtbo\u001b[0m\u001b[0;34m)\u001b[0m\u001b[0;34m\u001b[0m\u001b[0;34m\u001b[0m\u001b[0m\n\u001b[0m\u001b[1;32m    453\u001b[0m \u001b[0;34m\u001b[0m\u001b[0m\n\u001b[1;32m    454\u001b[0m     \u001b[0;32mdef\u001b[0m \u001b[0mis_loaded\u001b[0m\u001b[0;34m(\u001b[0m\u001b[0mself\u001b[0m\u001b[0;34m)\u001b[0m\u001b[0;34m:\u001b[0m\u001b[0;34m\u001b[0m\u001b[0;34m\u001b[0m\u001b[0m\n",
      "\u001b[0;31mAttributeError\u001b[0m: 'DefaultIP' object has no attribute 'download'"
     ]
    }
   ],
   "source": [
    "overlay.pr_download('pr_hier', '/home/xilinx/pynq/overlays/AXI_GPIO/pr_2.bit')"
   ]
  },
  {
   "cell_type": "code",
   "execution_count": 64,
   "id": "7414b0ae",
   "metadata": {
    "scrolled": false
   },
   "outputs": [
    {
     "data": {
      "image/png": "[encoded data removed]",
      "text/plain": [
       "<Figure size 432x288 with 1 Axes>"
      ]
     },
     "metadata": {
      "needs_background": "light"
     },
     "output_type": "display_data"
    },
    {
     "name": "stdout",
     "output_type": "stream",
     "text": [
      "Average: 1100.8000493049622 ms\n"
     ]
    }
   ],
   "source": [
    "length = 100\n",
    "time_log = []\n",
    "avg = 0\n",
    "for i in range(length):\n",
    "    start = time.time()\n",
    "    overlay=Overlay('/home/xilinx/pynq/overlays/GPIO_Wstatic/full.bit')\n",
    "    end = time.time()\n",
    "    time_log.append((end-start)*1000)\n",
    "    avg += time_log[i]\n",
    "\n",
    "%matplotlib inline\n",
    "plt.plot(range(length), time_log, 'ro')\n",
    "plt.title('Full bitstream loading time', fontsize=19)\n",
    "plt.axis([0, length, 0, 3500])\n",
    "plt.ylabel('Time in ms', fontsize=16)\n",
    "plt.show()\n",
    "print(\"Average: {} ms\".format(avg/100))"
   ]
  },
  {
   "cell_type": "code",
   "execution_count": 16,
   "id": "7eec91b1",
   "metadata": {},
   "outputs": [
    {
     "data": {
      "image/png": "[encoded data removed]",
      "text/plain": [
       "<Figure size 432x288 with 1 Axes>"
      ]
     },
     "metadata": {
      "needs_background": "light"
     },
     "output_type": "display_data"
    },
    {
     "name": "stdout",
     "output_type": "stream",
     "text": [
      "Average: 294.75043296813965 ms\n"
     ]
    }
   ],
   "source": [
    "length = 100\n",
    "time_log = []\n",
    "avg = 0\n",
    "for i in range(length):\n",
    "    start = time.time()\n",
    "    if i%2 == 0:\n",
    "        overlay.pr_download('pr_hier', '/home/xilinx/pynq/overlays/Pblock_test/pr_1.bit')\n",
    "    else:\n",
    "        overlay.pr_download('pr_hier', '/home/xilinx/pynq/overlays/Pblock_test/pr_0.bit')\n",
    "    end = time.time()\n",
    "    time_log.append((end-start)*1000)\n",
    "    avg += time_log[i]\n",
    "\n",
    "%matplotlib inline\n",
    "plt.plot(range(length), time_log, 'ro')\n",
    "plt.title('Partial bitstream loading time', fontsize=19)\n",
    "plt.axis([0, length, 0, 3500])\n",
    "plt.ylabel('Time in ms', fontsize=16)\n",
    "plt.show()\n",
    "print(\"Average: {} ms\".format(avg/100))"
   ]
  },
  {
   "cell_type": "code",
   "execution_count": 14,
   "id": "e114cdf9",
   "metadata": {},
   "outputs": [],
   "source": [
    "del Overlay"
   ]
  },
  {
   "cell_type": "code",
   "execution_count": 17,
   "id": "25c08386",
   "metadata": {},
   "outputs": [
    {
     "name": "stdout",
     "output_type": "stream",
     "text": [
      "Help on method pr_download in module pynq.overlay:\n",
      "\n",
      "pr_download(partial_region, partial_bit, dtbo=None) method of pynq.overlay.Overlay instance\n",
      "    The method to download a partial bitstream onto PL.\n",
      "    \n",
      "    In this method, the corresponding parser will only be\n",
      "    added once the `download()` method of the hierarchical block is called.\n",
      "    \n",
      "    This method always uses the parameter `dtbo` to configure the device\n",
      "    tree.\n",
      "    \n",
      "    Note\n",
      "    ----\n",
      "    There is no check on whether the partial region specified by users\n",
      "    is really partial-reconfigurable. So users have to make sure the\n",
      "    `partial_region` provided is correct.\n",
      "    \n",
      "    Parameters\n",
      "    ----------\n",
      "    partial_region : str\n",
      "        The name of the hierarchical block corresponding to the PR region.\n",
      "    partial_bit : str\n",
      "        The name of the partial bitstream.\n",
      "    dtbo : str\n",
      "        The path of the dtbo file.\n",
      "\n"
     ]
    }
   ],
   "source": [
    "help(overlay.pr_download)"
   ]
  },
  {
   "cell_type": "code",
   "execution_count": null,
   "id": "6b1e1b5a",
   "metadata": {},
   "outputs": [],
   "source": []
  }
 ],
 "metadata": {
  "kernelspec": {
   "display_name": "Python 3",
   "language": "python",
   "name": "python3"
  },
  "language_info": {
   "codemirror_mode": {
    "name": "ipython",
    "version": 3
   },
   "file_extension": ".py",
   "mimetype": "text/x-python",
   "name": "python",
   "nbconvert_exporter": "python",
   "pygments_lexer": "ipython3",
   "version": "3.8.2"
  }
 },
 "nbformat": 4,
 "nbformat_minor": 5
}
